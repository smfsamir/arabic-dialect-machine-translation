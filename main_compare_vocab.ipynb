{
 "cells": [
  {
   "cell_type": "code",
   "execution_count": 26,
   "metadata": {},
   "outputs": [],
   "source": [
    "from tokenizers import Tokenizer\n",
    "from tokenizers.models import BPE\n",
    "from tokenizers.pre_tokenizers import Whitespace\n",
    "from tokenizers.trainers import BpeTrainer\n",
    "import pandas as pd\n",
    "from typing import *\n",
    "\n",
    "from packages.pkl_operations.pkl_io import store_results_dynamic, load_pkl_from_path"
   ]
  },
  {
   "cell_type": "code",
   "execution_count": 5,
   "metadata": {},
   "outputs": [],
   "source": [
    "tokenizer = Tokenizer(BPE(unk_token=\"[UNK]\"))\n",
    "trainer = BpeTrainer(special_tokens=[\"[UNK]\"])\n",
    "tokenizer.pre_tokenizer = Whitespace()"
   ]
  },
  {
   "cell_type": "code",
   "execution_count": 11,
   "metadata": {},
   "outputs": [
    {
     "name": "stdout",
     "output_type": "stream",
     "text": [
      "\n",
      "\n",
      "\n"
     ]
    }
   ],
   "source": [
    "# def iterate_msa_lines(dia_data_path):\n",
    "#     frame = pd.read_csv(dia_data_path, sep='\\t')\n",
    "#     msa_frame = frame[frame['label']==\"MSA\"]\n",
    "#     return iter(msa_frame['content'])\n",
    "\n",
    "# dia_path = \"/project/rrg-mageed/DataBank/DIA_AR_data_bin/ARLU_Binary_train_data_id_light.tsv\"\n",
    "# msa_iter = iterate_msa_lines(dia_path)\n",
    "# tokenizer.train_from_iterator(msa_iter, trainer)"
   ]
  },
  {
   "cell_type": "code",
   "execution_count": 13,
   "metadata": {},
   "outputs": [],
   "source": [
    "vocab = set([])\n",
    "msa_iter = iterate_msa_lines(dia_path) # resetting the iterator\n",
    "for line in msa_iter:\n",
    "    tokens = tokenizer.encode(line).tokens\n",
    "    vocab.update(tokens)\n",
    "msa_vocab = vocab\n"
   ]
  },
  {
   "cell_type": "code",
   "execution_count": 16,
   "metadata": {},
   "outputs": [],
   "source": [
    "store_results_dynamic(msa_vocab, \"msa_vocab\", \"results\")"
   ]
  },
  {
   "cell_type": "code",
   "execution_count": 21,
   "metadata": {},
   "outputs": [],
   "source": [
    "def iterate_lines(dia_data_path, label):\n",
    "    frame = pd.read_csv(dia_data_path, sep='\\t')\n",
    "    msa_frame = frame[frame['label']==label]\n",
    "    return iter(msa_frame['content'])\n",
    "\n",
    "def get_vocab(dia_fname: str, label: str) -> Set[str]:\n",
    "    \"\"\"Get the vocabulary for language/dialect.\n",
    "\n",
    "    Args:\n",
    "        dia_fname (str): _description_\n",
    "        label (_type_): _description_\n",
    "    \n",
    "    Returns:\n",
    "        Vocabulary for the language or dialect.\n",
    "    \"\"\"\n",
    "    line_iter = iterate_lines(dia_fname, label)\n",
    "    trainer = BpeTrainer(special_tokens=[\"[UNK]\"])\n",
    "    tokenizer.train_from_iterator(line_iter, trainer)\n",
    "    \n",
    "    vocab = set([])\n",
    "    dia_iter = iterate_lines(dia_path, label) # resetting the iterator\n",
    "    for line in dia_iter:\n",
    "        tokens = tokenizer.encode(line).tokens\n",
    "        vocab.update(tokens)\n",
    "    return vocab"
   ]
  },
  {
   "cell_type": "code",
   "execution_count": null,
   "metadata": {},
   "outputs": [],
   "source": []
  },
  {
   "cell_type": "code",
   "execution_count": 24,
   "metadata": {},
   "outputs": [],
   "source": [
    "dia_vocab = get_vocab(dia_path, 'DA')\n",
    "store_results_dynamic(dia_vocab, 'dia_vocab', 'results')"
   ]
  },
  {
   "cell_type": "code",
   "execution_count": 28,
   "metadata": {},
   "outputs": [
    {
     "data": {
      "text/plain": [
       "0.3590010405827263"
      ]
     },
     "execution_count": 28,
     "metadata": {},
     "output_type": "execute_result"
    }
   ],
   "source": [
    "msa_vocab = load_pkl_from_path('results/2022-03-10/msa_vocab')\n",
    "dia_vocab = load_pkl_from_path('results/2022-03-10/dia_vocab')\n",
    "len(msa_vocab.intersection(dia_vocab)) / len(msa_vocab.union(dia_vocab))"
   ]
  },
  {
   "cell_type": "code",
   "execution_count": null,
   "metadata": {},
   "outputs": [],
   "source": []
  }
 ],
 "metadata": {
  "interpreter": {
   "hash": "4b0eed8307a202e8c31e9738347b1c9f231429177f8c77ccd42623598d5e3d49"
  },
  "kernelspec": {
   "display_name": "Python 3.7.7 64-bit",
   "language": "python",
   "name": "python3"
  },
  "language_info": {
   "codemirror_mode": {
    "name": "ipython",
    "version": 3
   },
   "file_extension": ".py",
   "mimetype": "text/x-python",
   "name": "python",
   "nbconvert_exporter": "python",
   "pygments_lexer": "ipython3",
   "version": "3.7.7"
  },
  "orig_nbformat": 4
 },
 "nbformat": 4,
 "nbformat_minor": 2
}
