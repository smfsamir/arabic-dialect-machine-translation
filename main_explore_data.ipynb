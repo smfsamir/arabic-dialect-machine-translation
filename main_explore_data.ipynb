{
 "cells": [
  {
   "cell_type": "code",
   "execution_count": 55,
   "metadata": {},
   "outputs": [],
   "source": [
    "# imports\n",
    "import re\n",
    "import pandas as pd\n",
    "from packages.utils.constants import *\n",
    "import nltk\n",
    "import itertools\n",
    "import matplotlib.pyplot as plt\n",
    "import seaborn as sns"
   ]
  },
  {
   "cell_type": "code",
   "execution_count": 5,
   "metadata": {},
   "outputs": [
    {
     "name": "stdout",
     "output_type": "stream",
     "text": [
      "5563\n"
     ]
    }
   ],
   "source": [
    "frame = pd.read_csv(\"data/spreadsheets/Dia2MSA_Egy_MSA_Verfied.tsv\", sep='\\t')\n",
    "frame.sort_values(by='confidence')\n",
    "frame = frame.drop_duplicates(subset='id', keep='first')\n",
    "assert frame['id'].is_unique"
   ]
  },
  {
   "cell_type": "code",
   "execution_count": null,
   "metadata": {},
   "outputs": [],
   "source": []
  },
  {
   "cell_type": "code",
   "execution_count": 27,
   "metadata": {},
   "outputs": [
    {
     "name": "stdout",
     "output_type": "stream",
     "text": [
      "Egyptian: 16355\n",
      "Levantine: 17893\n",
      "Gulf: 17591\n",
      "Maghrebi: 7912\n"
     ]
    }
   ],
   "source": [
    "def count_num_lines(fname):\n",
    "    frame = pd.read_csv(fname, sep='\\t')\n",
    "    return len(frame)\n",
    "\n",
    "print(f\"Egyptian: {count_num_lines('data/spreadsheets/Clean_dia2msa/Dia2MSA_Egy_MSA_Verfied.tsv')}\")\n",
    "print(f\"Levantine: {count_num_lines('data/spreadsheets/Clean_dia2msa/Dia2MSA_LEV_MSA_not_Verfied.tsv')}\")\n",
    "print(f\"Gulf: {count_num_lines('data/spreadsheets/Clean_dia2msa/Dia2MSA_GLF_MSA_Not_Verfied.tsv')}\")\n",
    "print(f\"Maghrebi: {count_num_lines('data/spreadsheets/Clean_dia2msa/Dia2MSA_MGB_MSA_Verfied.tsv')}\")"
   ]
  },
  {
   "cell_type": "code",
   "execution_count": 31,
   "metadata": {},
   "outputs": [
    {
     "name": "stdout",
     "output_type": "stream",
     "text": [
      "0        0.307692\n",
      "1        0.250000\n",
      "2        0.105263\n",
      "3        0.095238\n",
      "4        0.000000\n",
      "           ...   \n",
      "16350    0.111111\n",
      "16351    0.133333\n",
      "16352    0.096774\n",
      "16353    0.060606\n",
      "16354    0.178571\n",
      "Name: jacc, Length: 16355, dtype: float64\n"
     ]
    }
   ],
   "source": [
    "def eval_jacc_sent_pair(sent1, sent2):\n",
    "    if type(sent1) is float or type(sent2) is float:\n",
    "        return INVALID_JACC\n",
    "\n",
    "    sent_1_tokens = set(sent1.split(' '))\n",
    "    sent_2_tokens = set(sent2.split(' '))\n",
    "    return len(sent_1_tokens.intersection(sent_2_tokens)) / len(sent_1_tokens.union(sent_2_tokens))\n",
    "\n",
    "egypt_frame = pd.read_csv(\"data/spreadsheets/Clean_dia2msa/Dia2MSA_Egy_MSA_Verfied.tsv\", sep=\"\\t\")\n",
    "# TODO: need to use some other models to \n",
    "egypt_frame['jacc'] = egypt_frame[['target', 'source']].apply(lambda row: eval_jacc_sent_pair(row.target, row.source), axis=1)\n",
    "print(egypt_frame['jacc'])"
   ]
  },
  {
   "cell_type": "code",
   "execution_count": 17,
   "metadata": {},
   "outputs": [
    {
     "data": {
      "image/png": "[encoded data removed]",
      "text/plain": [
       "<Figure size 432x288 with 1 Axes>"
      ]
     },
     "metadata": {
      "needs_background": "light"
     },
     "output_type": "display_data"
    }
   ],
   "source": [
    "\n",
    "ax = sns.lineplot(\n",
    "    x = map(str, [1,2,3,4,5]),\n",
    "    y = [1.56, 1.45, 1.37, 1.33, 1.32],\n",
    "    marker='o'\n",
    ")\n",
    "ax.set_xlabel(\"Epoch\")\n",
    "ax.set_ylabel(\"Validation loss (avg. per token)\")\n",
    "ax.set_title(\"Finetuning mT5 on (synthetic) MSA to Egyptian translation\")\n",
    "plt.tight_layout()\n",
    "plt.savefig('finetune_egy_msa.png')\n"
   ]
  },
  {
   "cell_type": "code",
   "execution_count": 62,
   "metadata": {},
   "outputs": [],
   "source": [
    "def reconstruct_sentence(input_sent, target_sent):\n",
    "    # tag_re = r\"(</s>)|(<extra_id_(\\d)+)\"\n",
    "    tag_re = r\"\\</s\\>|\\<extra_id_\\d\\>\"\n",
    "    input_tokens = re.split(tag_re, input_sent)\n",
    "    print(input_tokens)\n",
    "    label_tokens = re.split(tag_re, target_sent)\n",
    "    print(label_tokens)\n",
    "    reconstructed_tokens = [x.strip() for x in itertools.chain(*itertools.zip_longest(input_tokens, label_tokens)) if (x and x.strip()) ]\n",
    "    sent = ' '.join(reconstructed_tokens)\n",
    "        # e.g.,:. have to make sure the spacing is consistent, otherwise the tokenization won't work.\n",
    "        # ربنا مجيب الدعاء بس ما تستعجلش عشان جلالتة بيستجيبلك بس بيبعتهالك<extra_id_0> فين ؟ وكل <extra_id_1>مش وقتك انت و بتبقى احلى</s>     MSA\n",
    "    return sent"
   ]
  },
  {
   "cell_type": "code",
   "execution_count": 63,
   "metadata": {},
   "outputs": [
    {
     "name": "stdout",
     "output_type": "stream",
     "text": [
      "['جروب الواتس الخاص بهذه العائلات عقاب من ', ' ', '']\n",
      "['', ' بعض']\n",
      "جروب الواتس الخاص بهذه العائلات عقاب من بعض\n"
     ]
    }
   ],
   "source": [
    "# tag_re = r\"^\\<extra_id_\\d\\>\"\n",
    "# input_sent = \"<extra_id_0> بعض\"\n",
    "# input_tokens = [x.strip() for x in re.split(tag_re, input_sent) if x]\n",
    "# print(input_tokens)\n",
    "res = reconstruct_sentence(\"جروب الواتس الخاص بهذه العائلات عقاب من <extra_id_0> </s>\", \"<extra_id_0> بعض\")\n",
    "print(res)"
   ]
  }
 ],
 "metadata": {
  "interpreter": {
   "hash": "d4ebfc88ccd97cb231efe00c7198020b2ae0235bcff1ce31852dbbe06876d933"
  },
  "kernelspec": {
   "display_name": "Python 3.9.12 ('base')",
   "language": "python",
   "name": "python3"
  },
  "language_info": {
   "codemirror_mode": {
    "name": "ipython",
    "version": 3
   },
   "file_extension": ".py",
   "mimetype": "text/x-python",
   "name": "python",
   "nbconvert_exporter": "python",
   "pygments_lexer": "ipython3",
   "version": "3.9.12"
  },
  "orig_nbformat": 4
 },
 "nbformat": 4,
 "nbformat_minor": 2
}
