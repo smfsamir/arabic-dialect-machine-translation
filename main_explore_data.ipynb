{
 "cells": [
  {
   "cell_type": "code",
   "execution_count": 22,
   "metadata": {},
   "outputs": [],
   "source": [
    "# imports\n",
    "import pandas as pd\n",
    "from packages.utils.constants import *\n"
   ]
  },
  {
   "cell_type": "code",
   "execution_count": 27,
   "metadata": {},
   "outputs": [
    {
     "name": "stdout",
     "output_type": "stream",
     "text": [
      "Egyptian: 16355\n",
      "Levantine: 17893\n",
      "Gulf: 17591\n",
      "Maghrebi: 7912\n"
     ]
    }
   ],
   "source": [
    "def count_num_lines(fname):\n",
    "    frame = pd.read_csv(fname, sep='\\t')\n",
    "    return len(frame)\n",
    "\n",
    "print(f\"Egyptian: {count_num_lines('data/spreadsheets/Clean_dia2msa/Dia2MSA_Egy_MSA_Verfied.tsv')}\")\n",
    "print(f\"Levantine: {count_num_lines('data/spreadsheets/Clean_dia2msa/Dia2MSA_LEV_MSA_not_Verfied.tsv')}\")\n",
    "print(f\"Gulf: {count_num_lines('data/spreadsheets/Clean_dia2msa/Dia2MSA_GLF_MSA_Not_Verfied.tsv')}\")\n",
    "print(f\"Maghrebi: {count_num_lines('data/spreadsheets/Clean_dia2msa/Dia2MSA_MGB_MSA_Verfied.tsv')}\")"
   ]
  },
  {
   "cell_type": "code",
   "execution_count": 31,
   "metadata": {},
   "outputs": [
    {
     "name": "stdout",
     "output_type": "stream",
     "text": [
      "0        0.307692\n",
      "1        0.250000\n",
      "2        0.105263\n",
      "3        0.095238\n",
      "4        0.000000\n",
      "           ...   \n",
      "16350    0.111111\n",
      "16351    0.133333\n",
      "16352    0.096774\n",
      "16353    0.060606\n",
      "16354    0.178571\n",
      "Name: jacc, Length: 16355, dtype: float64\n"
     ]
    }
   ],
   "source": [
    "def eval_jacc_sent_pair(sent1, sent2):\n",
    "    if type(sent1) is float or type(sent2) is float:\n",
    "        return INVALID_JACC\n",
    "\n",
    "    sent_1_tokens = set(sent1.split(' '))\n",
    "    sent_2_tokens = set(sent2.split(' '))\n",
    "    return len(sent_1_tokens.intersection(sent_2_tokens)) / len(sent_1_tokens.union(sent_2_tokens))\n",
    "\n",
    "egypt_frame = pd.read_csv(\"data/spreadsheets/Clean_dia2msa/Dia2MSA_Egy_MSA_Verfied.tsv\", sep=\"\\t\")\n",
    "# TODO: need to use some other models to \n",
    "egypt_frame['jacc'] = egypt_frame[['target', 'source']].apply(lambda row: eval_jacc_sent_pair(row.target, row.source), axis=1)\n",
    "print(egypt_frame['jacc'])"
   ]
  },
  {
   "cell_type": "code",
   "execution_count": null,
   "metadata": {},
   "outputs": [],
   "source": [
    "\n"
   ]
  }
 ],
 "metadata": {
  "interpreter": {
   "hash": "c2109291ff8bd9e48b5cfb7f2206a2f6ea314e9a88c3d714a1300a6ca1b68565"
  },
  "kernelspec": {
   "display_name": "Python 3.8.3 ('base')",
   "language": "python",
   "name": "python3"
  },
  "language_info": {
   "codemirror_mode": {
    "name": "ipython",
    "version": 3
   },
   "file_extension": ".py",
   "mimetype": "text/x-python",
   "name": "python",
   "nbconvert_exporter": "python",
   "pygments_lexer": "ipython3",
   "version": "3.8.3"
  },
  "orig_nbformat": 4
 },
 "nbformat": 4,
 "nbformat_minor": 2
}
